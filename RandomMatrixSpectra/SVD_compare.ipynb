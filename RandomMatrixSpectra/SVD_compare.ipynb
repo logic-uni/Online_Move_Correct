{
 "cells": [
  {
   "cell_type": "markdown",
   "id": "da980476",
   "metadata": {},
   "source": [
    "# Load SVD results"
   ]
  },
  {
   "cell_type": "code",
   "execution_count": null,
   "id": "ed49450a",
   "metadata": {},
   "outputs": [],
   "source": [
    "session_name = '20230512'\n",
    "region_name = 'Lobules IV-V' # Lobules IV-V  Interposed nucleus\n",
    "import numpy as np\n",
    "import seaborn as sns\n",
    "import matplotlib.pyplot as plt\n",
    "import pandas as pd\n",
    "save_path = f'/home/zhangyuhao/Desktop/Result/Online_Move_Correct/Spectrum_analysis/{session_name}'\n",
    "evalues = np.load(save_path+f'/{region_name}_evalues.npy')  # (num_trials, 4, K)\n",
    "evectors = np.load(save_path+f'/{region_name}_evectors.npy') # (num_trials, 4, K, K)\n",
    "mags = np.load(save_path+f'/{region_name}_mags.npy')  # (num_trials, 4)"
   ]
  }
 ],
 "metadata": {
  "kernelspec": {
   "display_name": "onl_mov_cor",
   "language": "python",
   "name": "python3"
  },
  "language_info": {
   "name": "python",
   "version": "3.8.20"
  }
 },
 "nbformat": 4,
 "nbformat_minor": 5
}
