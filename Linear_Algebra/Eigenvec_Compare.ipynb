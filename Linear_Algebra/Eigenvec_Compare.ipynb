{
 "cells": [
  {
   "cell_type": "markdown",
   "metadata": {},
   "source": [
    "# Load eigen vector and eigen values"
   ]
  },
  {
   "cell_type": "code",
   "execution_count": 61,
   "metadata": {},
   "outputs": [],
   "source": [
    "session_name = '20230516'\n",
    "region_name = 'Interposed nucleus' # Lobules IV-V  Interposed nucleus\n",
    "import numpy as np\n",
    "import seaborn as sns\n",
    "import matplotlib.pyplot as plt\n",
    "import pandas as pd\n",
    "save_path = f'/home/zhangyuhao/Desktop/Result/Online_Move_Correct/Spectrum_analysis/{session_name}'\n",
    "evalues = np.load(save_path+f'/{region_name}_evalues.npy')  # (num_trials, 4, K)\n",
    "evectors = np.load(save_path+f'/{region_name}_evectors.npy') # (num_trials, 4, K, K)\n",
    "mags = np.load(save_path+f'/{region_name}_mags.npy')  # (num_trials, 4)"
   ]
  },
  {
   "cell_type": "markdown",
   "metadata": {},
   "source": [
    "# Refine magnitude in different stage"
   ]
  },
  {
   "cell_type": "code",
   "execution_count": null,
   "metadata": {},
   "outputs": [],
   "source": [
    "# Slice the 'mags' numpy array along the second dimension\n",
    "sliced_mags = [mags[:, i, :] for i in range(4)]\n",
    "stages = ['stage1','stage2','stage3','stage4']\n",
    "# Convert the 2D ndarrays into dataframes\n",
    "dfs = []\n",
    "for i, mag_2d in enumerate(sliced_mags):\n",
    "    df = pd.DataFrame({\n",
    "        'mags': mag_2d.flatten(),\n",
    "        'stage': stages[i]\n",
    "    })\n",
    "    dfs.append(df)\n",
    "\n",
    "# Concatenate all dataframes into a single dataframe\n",
    "result_df = pd.concat(dfs, ignore_index=True)\n",
    "# Filter out rows where 'mags' column values are less than 0.02\n",
    "result_df = result_df[result_df['mags'] >= 0.02]\n",
    "result_df"
   ]
  },
  {
   "cell_type": "markdown",
   "metadata": {},
   "source": [
    "# Find Non-common eigen vector"
   ]
  },
  {
   "cell_type": "code",
   "execution_count": 63,
   "metadata": {},
   "outputs": [
    {
     "name": "stdout",
     "output_type": "stream",
     "text": [
      "满足条件的trial对:\n",
      "Trial 3 与 Trial 4\n",
      "Trial 3 与 Trial 7\n",
      "Trial 3 与 Trial 8\n",
      "Trial 4 与 Trial 7\n",
      "Trial 4 与 Trial 8\n",
      "Trial 6 与 Trial 12\n",
      "Trial 6 与 Trial 13\n",
      "Trial 7 与 Trial 8\n",
      "Trial 12 与 Trial 13\n",
      "各trial中第三阶段的最大特征向量是否存在于阶段1： [True, True, False, True, False, False, True, True, True, False, False, True, True]\n",
      "各trial中第三阶段的最大特征向量是否存在于阶段2： [False, True, True, True, False, True, True, True, False, False, False, True, True]\n",
      "各trial中第三阶段的最大特征向量是否存在于阶段4： [True, False, True, True, False, True, True, True, True, False, False, True, True]\n"
     ]
    }
   ],
   "source": [
    "# 假设 eigenvalue 和 eigenvector 是已经加载的numpy数组\n",
    "threshold = 0.99 # 相似度阈值，可根据需要调整\n",
    "\n",
    "# 初始化存储结果\n",
    "feature_vectors = []  #存储所有trial最大特征值的特征向量\n",
    "stage0_exist = []\n",
    "stage1_exist = []\n",
    "stage3_exist = []\n",
    "\n",
    "for trial in range(evectors.shape[0]):\n",
    "    # 获取第三阶段（索引2）的特征值\n",
    "    stage2_evals = evalues[trial, 2, :]\n",
    "    max_idx = np.argmax(stage2_evals)\n",
    "    if stage2_evals[max_idx] >= 1:  # 仅考虑特征值大于1的情况\n",
    "        # 提取对应的特征向量\n",
    "        current_vec = evectors[trial, 2, :, max_idx]\n",
    "        #current_vec = current_vec / np.linalg.norm(current_vec) \n",
    "        \n",
    "        # 检查阶段0是否存在相似向量\n",
    "        stage0_vecs = evectors[trial, 0, :, :]  # 形状(440, 440)\n",
    "        dots_stage0 = np.abs(np.dot(stage0_vecs.T, current_vec))\n",
    "        stage0_exist.append(np.max(dots_stage0) >= threshold)\n",
    "        \n",
    "        # 检查阶段1是否存在相似向量\n",
    "        stage1_vecs = evectors[trial, 1, :, :]\n",
    "        dots_stage1 = np.abs(np.dot(stage1_vecs.T, current_vec))\n",
    "        stage1_exist.append(np.max(dots_stage1) >= threshold)\n",
    "\n",
    "        # 检查阶段4是否存在相似向量\n",
    "        stage3_vecs = evectors[trial, 3, :, :]  # 形状(440, 440)\n",
    "        dots_stage3 = np.abs(np.dot(stage3_vecs.T, current_vec))\n",
    "        stage3_exist.append(np.max(dots_stage3) >= threshold)\n",
    "        \n",
    "        feature_vectors.append(current_vec)\n",
    "\n",
    "# 转换为numpy数组\n",
    "feature_vectors = np.array(feature_vectors)\n",
    "\n",
    "# 计算相似度矩阵\n",
    "similarity_matrix = np.abs(np.dot(feature_vectors, feature_vectors.T))\n",
    "\n",
    "matching_pairs = []\n",
    "for i in range(feature_vectors.shape[0]):\n",
    "    for j in range(i + 1, feature_vectors.shape[0]):  # 仅遍历上三角，避免重复\n",
    "        if similarity_matrix[i, j] >= threshold:\n",
    "            matching_pairs.append((i+1, j+1))\n",
    "\n",
    "# 输出结果\n",
    "if len(matching_pairs) > 0:\n",
    "    print(\"满足条件的trial对:\")\n",
    "    for pair in matching_pairs:\n",
    "        print(f\"Trial {pair[0]} 与 Trial {pair[1]}\")\n",
    "else:\n",
    "    print(\"没有满足条件的trial对。\")\n",
    "\n",
    "# 输出结果\n",
    "print(\"各trial中第三阶段的最大特征向量是否存在于阶段1：\", stage0_exist)\n",
    "print(\"各trial中第三阶段的最大特征向量是否存在于阶段2：\", stage1_exist)\n",
    "print(\"各trial中第三阶段的最大特征向量是否存在于阶段4：\", stage3_exist)"
   ]
  }
 ],
 "metadata": {
  "kernelspec": {
   "display_name": "onl_mov_cor",
   "language": "python",
   "name": "python3"
  },
  "language_info": {
   "codemirror_mode": {
    "name": "ipython",
    "version": 3
   },
   "file_extension": ".py",
   "mimetype": "text/x-python",
   "name": "python",
   "nbconvert_exporter": "python",
   "pygments_lexer": "ipython3",
   "version": "3.8.20"
  }
 },
 "nbformat": 4,
 "nbformat_minor": 2
}
